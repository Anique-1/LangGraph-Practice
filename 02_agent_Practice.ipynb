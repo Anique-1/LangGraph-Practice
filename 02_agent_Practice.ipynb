{
 "cells": [
  {
   "cell_type": "code",
   "execution_count": 2,
   "metadata": {},
   "outputs": [],
   "source": [
    "from typing import TypedDict, Literal\n",
    "\n",
    "class AgentState(TypedDict):\n",
    "    amount_usd: float\n",
    "    total_usd: float\n",
    "    total_pkr:float\n",
    "    target_currency:Literal['eur','pkr']"
   ]
  },
  {
   "cell_type": "code",
   "execution_count": 3,
   "metadata": {},
   "outputs": [],
   "source": [
    "def cal_total(state : AgentState) -> AgentState:\n",
    "    state['amount_usd']=state['amount_usd']*1.08\n",
    "    return state\n",
    "\n",
    "def convert_to_pkr(state : AgentState) -> AgentState:\n",
    "    state['amount_usd']=state['amount_usd']*220\n",
    "    return state\n",
    "\n",
    "def convert_to_eur(state : AgentState) -> AgentState:\n",
    "    state['amount_usd']=state['amount_usd']*0.85\n",
    "    return state\n",
    "\n",
    "def choose_currency(state : AgentState) -> str:\n",
    "    return state['target_currency']"
   ]
  },
  {
   "cell_type": "code",
   "execution_count": 6,
   "metadata": {},
   "outputs": [],
   "source": [
    "from langgraph.graph import StateGraph, START, END\n",
    "\n",
    "builder = StateGraph(AgentState)\n",
    "\n",
    "builder.add_node(\"cal_total\", cal_total)\n",
    "builder.add_node(\"convert_to_pkr\", convert_to_pkr)\n",
    "builder.add_node(\"convert_to_eur\", convert_to_eur)\n",
    "\n",
    "builder.add_edge(START, \"cal_total\")\n",
    "builder.add_conditional_edges(\"cal_total\", choose_currency, {\n",
    "    \"pkr\":\"convert_to_pkr\",\n",
    "    \"eur\":\"convert_to_eur\"\n",
    "})\n",
    "builder.add_edge([\"convert_to_pkr\", \"convert_to_eur\"], END)\n",
    "\n",
    "graph=builder.compile()\n"
   ]
  },
  {
   "cell_type": "code",
   "execution_count": 7,
   "metadata": {},
   "outputs": [
    {
     "data": {
      "image/png": "[encoded data removed]",
      "text/plain": [
       "<IPython.core.display.Image object>"
      ]
     },
     "metadata": {},
     "output_type": "display_data"
    }
   ],
   "source": [
    "from IPython.display import Image, display\n",
    "\n",
    "display(Image(graph.get_graph().draw_mermaid_png()))"
   ]
  },
  {
   "cell_type": "code",
   "execution_count": 8,
   "metadata": {},
   "outputs": [
    {
     "data": {
      "text/plain": [
       "{'amount_usd': 23760.0, 'target_currency': 'pkr'}"
      ]
     },
     "execution_count": 8,
     "metadata": {},
     "output_type": "execute_result"
    }
   ],
   "source": [
    "graph.invoke({\"amount_usd\": 100, \"target_currency\": \"pkr\"})"
   ]
  },
  {
   "cell_type": "code",
   "execution_count": null,
   "metadata": {},
   "outputs": [],
   "source": []
  }
 ],
 "metadata": {
  "kernelspec": {
   "display_name": "Python 3",
   "language": "python",
   "name": "python3"
  },
  "language_info": {
   "codemirror_mode": {
    "name": "ipython",
    "version": 3
   },
   "file_extension": ".py",
   "mimetype": "text/x-python",
   "name": "python",
   "nbconvert_exporter": "python",
   "pygments_lexer": "ipython3",
   "version": "3.12.8"
  }
 },
 "nbformat": 4,
 "nbformat_minor": 2
}
